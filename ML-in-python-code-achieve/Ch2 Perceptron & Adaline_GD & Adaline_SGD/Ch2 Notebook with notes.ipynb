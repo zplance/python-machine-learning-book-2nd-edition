{
 "cells": [
  {
   "cell_type": "markdown",
   "metadata": {},
   "source": [
    "# CH.2"
   ]
  },
  {
   "cell_type": "markdown",
   "metadata": {},
   "source": [
    "## Perceptron"
   ]
  },
  {
   "cell_type": "code",
   "execution_count": 1,
   "metadata": {},
   "outputs": [],
   "source": [
    "import numpy as np\n",
    "\n",
    "class Perceptron(object):\n",
    "    \"\"\"\n",
    "    Paramters\n",
    "    -----------\n",
    "    eta: float\n",
    "        Learning rate (between 0.0 and 1.0)\n",
    "    n_iter: int\n",
    "        Passes over the training dataset\n",
    "    random_state: int\n",
    "        Random number generator seed for random weight initialization\n",
    "    \n",
    "    Attributes\n",
    "    -----------\n",
    "    w_: 1d-array\n",
    "        Weights after fitting\n",
    "    errors_: list\n",
    "        # of misclassification (updates) in each epoch\n",
    "\n",
    "    \"\"\"\n",
    "    # '__' in '__init__' is two chr underline, args inside are self and all parameters will be used\n",
    "    # self let us use the attribute in the whole class\n",
    "    def __init__(self, lr = 0.1, n_iter = 50, random_state = 1):\n",
    "        self.lr = lr\n",
    "        self.n_iter = n_iter\n",
    "        self.random_state = random_state\n",
    "    \n",
    "    def fit(self, X, y):\n",
    "        \"\"\"Fitting training data by the model:\n",
    "        y = Xi * wi\n",
    "        Parameters\n",
    "        -----------\n",
    "        X: (array-like), shape = (n_samples, m_features)\n",
    "        y: (array-like), shape = (n_samples)\n",
    "        Target values\n",
    "        \n",
    "        Returns\n",
    "        --------\n",
    "        self: object\n",
    "        \"\"\"\n",
    "        # Generating the initial weights, by given low variance and mean zero.\n",
    "        # But I think it's okay in Perceptron to use 0 weights as initial weights.\n",
    "        self.w_ = np.random.RandomState(self.random_state).normal(loc = 0.0, scale = 0.01, size = 1 + X.shape[1])\n",
    "        self.errors_ = []\n",
    "        \n",
    "        for _ in range(self.n_iter):\n",
    "            errors = 0\n",
    "            # Running all sample and update the weight before get output. In this case, a single iteration is 100 times.\n",
    "            for xi, target in zip(X, y):\n",
    "                update = self.lr * (target - self.predict(xi))\n",
    "                self.w_[1:] += update * xi\n",
    "                self.w_[0] += update * 1\n",
    "                errors += int(update != 0.0)\n",
    "            self.errors_.append(errors)\n",
    "        return self\n",
    "    \n",
    "    def net_input(self, X):\n",
    "        \"\"\"Calculate the net input, the original y_hat\"\"\"\n",
    "        return np.dot(X, self.w_[1:]) + self.w_[0]\n",
    "    \n",
    "    def predict(self, X):\n",
    "        \"\"\"Return class labels, arguments: 1st is condition, 2nd is true return, 3rd is false return\"\"\"\n",
    "        return np.where(self.net_input(X) >= 0.0, 1.0, -1.0)"
   ]
  },
  {
   "cell_type": "code",
   "execution_count": 2,
   "metadata": {},
   "outputs": [
    {
     "data": {
      "text/html": [
       "<div>\n",
       "<style scoped>\n",
       "    .dataframe tbody tr th:only-of-type {\n",
       "        vertical-align: middle;\n",
       "    }\n",
       "\n",
       "    .dataframe tbody tr th {\n",
       "        vertical-align: top;\n",
       "    }\n",
       "\n",
       "    .dataframe thead th {\n",
       "        text-align: right;\n",
       "    }\n",
       "</style>\n",
       "<table border=\"1\" class=\"dataframe\">\n",
       "  <thead>\n",
       "    <tr style=\"text-align: right;\">\n",
       "      <th></th>\n",
       "      <th>0</th>\n",
       "      <th>1</th>\n",
       "      <th>2</th>\n",
       "      <th>3</th>\n",
       "      <th>4</th>\n",
       "    </tr>\n",
       "  </thead>\n",
       "  <tbody>\n",
       "    <tr>\n",
       "      <th>145</th>\n",
       "      <td>6.7</td>\n",
       "      <td>3.0</td>\n",
       "      <td>5.2</td>\n",
       "      <td>2.3</td>\n",
       "      <td>Iris-virginica</td>\n",
       "    </tr>\n",
       "    <tr>\n",
       "      <th>146</th>\n",
       "      <td>6.3</td>\n",
       "      <td>2.5</td>\n",
       "      <td>5.0</td>\n",
       "      <td>1.9</td>\n",
       "      <td>Iris-virginica</td>\n",
       "    </tr>\n",
       "    <tr>\n",
       "      <th>147</th>\n",
       "      <td>6.5</td>\n",
       "      <td>3.0</td>\n",
       "      <td>5.2</td>\n",
       "      <td>2.0</td>\n",
       "      <td>Iris-virginica</td>\n",
       "    </tr>\n",
       "    <tr>\n",
       "      <th>148</th>\n",
       "      <td>6.2</td>\n",
       "      <td>3.4</td>\n",
       "      <td>5.4</td>\n",
       "      <td>2.3</td>\n",
       "      <td>Iris-virginica</td>\n",
       "    </tr>\n",
       "    <tr>\n",
       "      <th>149</th>\n",
       "      <td>5.9</td>\n",
       "      <td>3.0</td>\n",
       "      <td>5.1</td>\n",
       "      <td>1.8</td>\n",
       "      <td>Iris-virginica</td>\n",
       "    </tr>\n",
       "  </tbody>\n",
       "</table>\n",
       "</div>"
      ],
      "text/plain": [
       "       0    1    2    3               4\n",
       "145  6.7  3.0  5.2  2.3  Iris-virginica\n",
       "146  6.3  2.5  5.0  1.9  Iris-virginica\n",
       "147  6.5  3.0  5.2  2.0  Iris-virginica\n",
       "148  6.2  3.4  5.4  2.3  Iris-virginica\n",
       "149  5.9  3.0  5.1  1.8  Iris-virginica"
      ]
     },
     "execution_count": 2,
     "metadata": {},
     "output_type": "execute_result"
    }
   ],
   "source": [
    "import pandas as pd\n",
    "\n",
    "df = pd.read_csv('https://archive.ics.uci.edu/ml/'\n",
    "        'machine-learning-databases/iris/iris.data', header = None)\n",
    "df.tail()"
   ]
  },
  {
   "cell_type": "code",
   "execution_count": 3,
   "metadata": {},
   "outputs": [
    {
     "data": {
      "text/plain": [
       "<matplotlib.figure.Figure at 0x106f4ee80>"
      ]
     },
     "metadata": {},
     "output_type": "display_data"
    }
   ],
   "source": [
    "import matplotlib.pyplot as plt\n",
    "\n",
    "## give target value and turn it into two classes -1 and 1\n",
    "y = df.iloc[:100, 4].values\n",
    "y = np.where(y == 'Iris-setosa', -1, 1)\n",
    "X = df.iloc[:100, [0,2]].values\n",
    "plt.scatter(X[:50, 0], X[:50, 1], color = 'red', marker = 'o', label = 'setosa')\n",
    "plt.scatter(X[50:, 0], X[50:, 1],color = 'blue', marker = 'x', label = 'versicolor')\n",
    "plt.xlabel('sepal length [cm]')\n",
    "plt.ylabel('petal length [cm]')\n",
    "plt.title('sepal length versus petal length group by color type')\n",
    "plt.show()"
   ]
  },
  {
   "cell_type": "code",
   "execution_count": 4,
   "metadata": {},
   "outputs": [
    {
     "data": {
      "image/png": "[encoded data removed]",
      "text/plain": [
       "<matplotlib.figure.Figure at 0x106f429b0>"
      ]
     },
     "metadata": {},
     "output_type": "display_data"
    }
   ],
   "source": [
    "# Only the specified argument will be change or they will be keep default\n",
    "ppn = Perceptron(lr = 0.1, n_iter = 10)\n",
    "ppn.fit(X, y)\n",
    "# Python won't take acount the end value, so we use range(1, 11)\n",
    "plt.plot(range(1, len(ppn.errors_) + 1), ppn.errors_, marker='o')\n",
    "plt.xlabel('Epochs')\n",
    "plt.ylabel('Number of updates')\n",
    "\n",
    "plt.show()"
   ]
  },
  {
   "cell_type": "code",
   "execution_count": 5,
   "metadata": {},
   "outputs": [],
   "source": [
    "from matplotlib.colors import ListedColormap\n",
    "\n",
    "def plot_decision_regions(X, y, classifier, step = 0.02):\n",
    "    '''setup'''\n",
    "    # Define the order possible used markers and colors. There would be error if we had more categories than pre-set. \n",
    "    markers = ('s', 'x', 'o', '^', 'v')\n",
    "    colors = ('red', 'blue', 'lightgreen', 'gray', 'cyan')\n",
    "    \n",
    "    # Define the number of colors\n",
    "    cmap = ListedColormap(colors[:len(np.unique(y))])\n",
    "    \n",
    "    # To scale all data points in center of the plot\n",
    "    x1_min, x1_max = X[:, 0].min() - 1, X[:, 0].max() + 1\n",
    "    x2_min, x2_max = X[:, 1].min() - 1, X[:, 1].max() + 1\n",
    "    \n",
    "    ## xx1, xx2 in shape of (305, 235): len(2nd argument) as row num, len(1st argument) as col num\n",
    "    ## 1st list: repeat 1st argument for len(2nd argument) rows\n",
    "    ## 2nd list: repeat every elements in 2nd argument len(1st argument) times for len(2nd argument) rows\n",
    "    \n",
    "    xx1, xx2 = np.meshgrid(np.arange(x1_min, x1_max, step = step), \n",
    "                           np.arange(x2_min, x2_max, step = step))\n",
    "    \n",
    "    # Return the flat vector (1 * n)\n",
    "    Z = classifier.predict(np.array([xx1.ravel(), xx2.ravel()]).T)\n",
    "    Z = Z.reshape(xx1.shape)\n",
    "    \n",
    "    #fill the color by border given by stepped array xx1 and xx2\n",
    "    plt.contourf(xx1, xx2, Z, alpha = 0.1, cmap = cmap)\n",
    "    plt.xlim(xx1.min(), xx1.max())\n",
    "    plt.ylim(xx2.min(), xx2.max())\n",
    "    \n",
    "    # Plot sample with label 1 and label -1 separately\n",
    "    for idx, cl in enumerate(np.unique(y)):\n",
    "        plt.scatter(x = X[y == cl, 0], \n",
    "                    y = X[y == cl, 1], \n",
    "                    alpha = 0.8, \n",
    "                    c = colors[idx], \n",
    "                    marker = markers[idx], label = cl, \n",
    "                    edgecolor = 'black')"
   ]
  },
  {
   "cell_type": "code",
   "execution_count": 6,
   "metadata": {},
   "outputs": [
    {
     "data": {
      "image/png": "[encoded data removed]",
      "text/plain": [
       "<matplotlib.figure.Figure at 0x108933c50>"
      ]
     },
     "metadata": {},
     "output_type": "display_data"
    }
   ],
   "source": [
    "# Implement defined function\n",
    "plot_decision_regions(X, y, classifier = ppn)\n",
    "plt.xlabel('sepal length [cm]')\n",
    "plt.ylabel('petal length [cm]')\n",
    "plt.legend(loc = 'upper left')\n",
    "plt.show()"
   ]
  },
  {
   "cell_type": "markdown",
   "metadata": {},
   "source": [
    "Note: The Proceptron can only do the classification on linear separatable data set.\n",
    "The definition of linear separatable is well define by Wikipedia: https://en.wikipedia.org/wiki/Linear_separability"
   ]
  },
  {
   "cell_type": "markdown",
   "metadata": {},
   "source": [
    "## Adaline with GD"
   ]
  },
  {
   "cell_type": "code",
   "execution_count": 7,
   "metadata": {},
   "outputs": [],
   "source": [
    "class AdalineGD(object):\n",
    "    \"\"\"ADAptive Linear NEuron classifier\n",
    "    \n",
    "    Parameters\n",
    "    -----------\n",
    "    eta: float\n",
    "        Learing rate(0.0, 1.0)\n",
    "    n_iter: int\n",
    "        Passes over the training dataset \n",
    "    random_state: int\n",
    "        Random number generator seed for randomly get initial weights\n",
    "    \n",
    "    Attributes\n",
    "    -----------\n",
    "    w_: 1d-array\n",
    "        Weights after fitting\n",
    "    cost_: list\n",
    "        SSE cost function of each epoch\n",
    "    \n",
    "    \"\"\"\n",
    "    \n",
    "    def __init__(self, lr = 0.01, n_iter = 50, random_state = 1):\n",
    "        self.lr = lr\n",
    "        self.n_iter = n_iter\n",
    "        self.random_state = random_state\n",
    "        \n",
    "    \n",
    "    def fit(self, X, y):\n",
    "        \"\"\"Fit training data\n",
    "        \n",
    "        Parameters\n",
    "        -----------\n",
    "        X: array-like, shape = (n_samples, m_features)\n",
    "        y: array-like, shape = n_samples, target values\n",
    "        \n",
    "        Notes\n",
    "        ------\n",
    "        The Adaline computes the errors by the true label and activation function output value, instead of\n",
    "        predicted labels in Perceptron.\n",
    "        \n",
    "        Return\n",
    "        -------\n",
    "        self: object\n",
    "        \n",
    "        \"\"\"\n",
    "        self.w_ = np.random.RandomState(self.random_state).normal(loc = 0.0, scale = 0.01, size = X.shape[1])\n",
    "        self.cost_ = []\n",
    "        \n",
    "        for i in range(self.n_iter):\n",
    "            net_input = self.net_input(X)\n",
    "            output = self.activation(net_input)\n",
    "            errors = (y - output)\n",
    "            self.w_ += self.lr * np.dot(X.T, errors)\n",
    "            cost = (errors ** 2).sum() / 2.0\n",
    "            self.cost_.append(cost)\n",
    "        return self\n",
    "            \n",
    "    def net_input(self, X):\n",
    "        \n",
    "        return np.dot(X, self.w_)\n",
    "    \n",
    "    def activation(self, X):\n",
    "        return X\n",
    "    \n",
    "    def predict(self, X):\n",
    "        return np.where(self.activation(self.net_input(X)) >= 0.0, 1, -1)\n",
    "    "
   ]
  },
  {
   "cell_type": "code",
   "execution_count": 8,
   "metadata": {},
   "outputs": [
    {
     "data": {
      "image/png": "[encoded data removed]",
      "text/plain": [
       "<matplotlib.figure.Figure at 0x10891e828>"
      ]
     },
     "metadata": {},
     "output_type": "display_data"
    }
   ],
   "source": [
    "X_new = np.vstack([np.ones((X.shape[0],)), X.T]).T\n",
    "\n",
    "## The selection of learning rates matters. Since too large will skip the true valley every time and cannot converge.\n",
    "## The too small learning rates will be time consuming to find global valley.\n",
    "\n",
    "fig, ax = plt.subplots(nrows = 1, ncols = 2, figsize = (10, 4))\n",
    "ada1 = AdalineGD(n_iter = 10, lr = 0.01,).fit(X_new, y)\n",
    "ax[0].plot(range(1, len(ada1.cost_) + 1), np.log10(ada1.cost_), marker = 'o')\n",
    "ax[0].set_xlabel('Epochs')\n",
    "ax[0].set_ylabel('log_sse')\n",
    "ax[0].set_title('Adaline_lr 0.01')\n",
    "\n",
    "ada2 = AdalineGD(n_iter = 10, lr = 0.0001,).fit(X_new, y)\n",
    "ax[1].plot(range(1, len(ada2.cost_) + 1), np.log10(ada2.cost_), marker = 'o')\n",
    "ax[1].set_xlabel('Epochs')\n",
    "ax[1].set_ylabel('log_sse')\n",
    "ax[1].set_title('Adaline_lr 0.0001')\n",
    "plt.show()"
   ]
  },
  {
   "cell_type": "code",
   "execution_count": 9,
   "metadata": {},
   "outputs": [],
   "source": [
    "from matplotlib.colors import ListedColormap\n",
    "\n",
    "def plot_decision_regions2(X, y, classifier, step = 0.02):\n",
    "    markers = ('s', 'x', 'o', '^', 'v')\n",
    "    colors = ('red', 'blue', 'lightgreen', 'gray', 'cyan')\n",
    "    \n",
    "    # Define the number of colors\n",
    "    cmap = ListedColormap(colors[:len(np.unique(y))])\n",
    "    \n",
    "    # To scale all data points in center of the plot\n",
    "    x1_min, x1_max = X[:, 0].min() - 1, X[:, 0].max() + 1\n",
    "    x2_min, x2_max = X[:, 1].min() - 1, X[:, 1].max() + 1\n",
    "    \n",
    "    ## xx1, xx2 in shape of (305, 235): len(2nd argument) as row num, len(1st argument) as col num\n",
    "    ## 1st list: repeat 1st argument for len(2nd argument) rows\n",
    "    ## 2nd list: repeat every elements in 2nd argument len(1st argument) times for len(2nd argument) rows\n",
    "    \n",
    "    xx1, xx2 = np.meshgrid(np.arange(x1_min, x1_max, step = step), \n",
    "                           np.arange(x2_min, x2_max, step = step))\n",
    "    \n",
    "    # Return the flat vector (1 * n)\n",
    "    Z = classifier.predict(np.array([np.ones((xx1.ravel().shape[0],)), xx1.ravel(), xx2.ravel()]).T)\n",
    "    Z = Z.reshape(xx1.shape)\n",
    "    \n",
    "    #fill the color by border given by stepped array xx1 and xx2\n",
    "    plt.contourf(xx1, xx2, Z, alpha = 0.1, cmap = cmap)\n",
    "    plt.xlim(xx1.min(), xx1.max())\n",
    "    plt.ylim(xx2.min(), xx2.max())\n",
    "    \n",
    "    # Plot sample with label 1 and label -1 separately\n",
    "    for idx, cl in enumerate(np.unique(y)):\n",
    "        plt.scatter(x = X[y == cl, 0], \n",
    "                    y = X[y == cl, 1], \n",
    "                    alpha = 0.8, \n",
    "                    c = colors[idx], \n",
    "                    marker = markers[idx], label = cl, \n",
    "                    edgecolor = 'black')"
   ]
  },
  {
   "cell_type": "code",
   "execution_count": 10,
   "metadata": {},
   "outputs": [
    {
     "data": {
      "image/png": "[encoded data removed]",
      "text/plain": [
       "<matplotlib.figure.Figure at 0x108944080>"
      ]
     },
     "metadata": {},
     "output_type": "display_data"
    }
   ],
   "source": [
    "X_std = np.copy(X)\n",
    "X_std[:, 0] = (X[:, 0] - X[:, 0].mean()) / X[:, 0].std()\n",
    "X_std[:, 1] = (X[:, 1] - X[:, 1].mean()) / X[:, 1].std()\n",
    "X_std_new = np.vstack([np.ones((X_std.shape[0],)), X_std.T]).T\n",
    "ada = AdalineGD(n_iter = 15, lr = 0.01)\n",
    "ada.fit(X_std_new, y)\n",
    "\n",
    "plot_decision_regions2(X_std, y, classifier = ada)\n",
    "plt.title('Adaline-GD with standardized data')\n",
    "plt.show()"
   ]
  },
  {
   "cell_type": "code",
   "execution_count": 11,
   "metadata": {},
   "outputs": [
    {
     "data": {
      "image/png": "[encoded data removed]",
      "text/plain": [
       "<matplotlib.figure.Figure at 0x108be6fd0>"
      ]
     },
     "metadata": {},
     "output_type": "display_data"
    }
   ],
   "source": [
    "plt.plot(range(1, len(ada.cost_) + 1), ada.cost_, marker = 'o')\n",
    "plt.xlabel('Epochs')\n",
    "plt.ylabel('sse')\n",
    "plt.show()"
   ]
  },
  {
   "cell_type": "markdown",
   "metadata": {},
   "source": [
    "## Adaline with SGD"
   ]
  },
  {
   "cell_type": "code",
   "execution_count": 12,
   "metadata": {},
   "outputs": [],
   "source": [
    "class AdalineSGD(object):\n",
    "    \"\"\"\n",
    "    \n",
    "    Parameters\n",
    "    -----------\n",
    "    \n",
    "    Attributes\n",
    "    -----------\n",
    "    \n",
    "    \n",
    "    \"\"\"\n",
    "    \n",
    "    def __init__(self, lr = 0.01, n_iter = 10, random_state = None, shuffle = True):\n",
    "        self.lr = lr\n",
    "        self.shuffle = shuffle\n",
    "        self.random_state = random_state\n",
    "        self.n_iter = n_iter\n",
    "        self.w_initialized = False\n",
    "        \n",
    "    def fit(self, X, y):\n",
    "        \"\"\"\n",
    "        Parameters\n",
    "        -----------\n",
    "        \n",
    "        Notes:\n",
    "        Stochastic Gradient Descent are designed to solve the time cost of Gradient Descent in large scale training \n",
    "        set which compute the whole training set points to get the error and update weights.\n",
    "        Stochastic Gradient Descent compute use single point to represent whole training set to update weights, thus \n",
    "        makes computation cost lower.\n",
    "        \n",
    "        Returns\n",
    "        --------\n",
    "        self: object\n",
    "        \n",
    "        \"\"\"\n",
    "        self._initialize_weights(X.shape[1])\n",
    "        self.cost_ = []\n",
    "        for i in range(self.n_iter):\n",
    "            if self.shuffle:\n",
    "                X, y = self._shuffle(X, y)\n",
    "            cost = []\n",
    "            for xi, label in zip(X, y):\n",
    "                cost.append(self._update_weights(xi, label))\n",
    "            avg_cost = sum(cost) / len(cost)\n",
    "            self.cost_.append(avg_cost)\n",
    "        return self\n",
    "        \n",
    "    def _initialize_weights(self, m):\n",
    "        self.w_ = np.random.RandomState(self.random_state).normal(loc = 0.0, scale = 0.01, size = m)\n",
    "        self.w_initialized = True\n",
    "    \n",
    "    def _shuffle(self, X, y):\n",
    "        r = np.random.RandomState(self.random_state).permutation(len(y))\n",
    "        return X[r], y[r]\n",
    "    \n",
    "    #def partial_fit(self, X, y):\n",
    "    #    if not self.w_initialized:\n",
    "    #        self._initialize_weights(X.shape[1])\n",
    "    #    self._update_weights(X, y)\n",
    "    #    return self\n",
    "    \n",
    "    def _update_weights(self, xi, label):\n",
    "        output = self.activation(self.net_input(xi))\n",
    "        error = (label - output)\n",
    "        self.w_ += self.lr * np.dot(xi, error)\n",
    "        cost = 0.5 * error ** 2\n",
    "        return cost\n",
    "    \n",
    "    def net_input(self, X):\n",
    "        return np.dot(X, self.w_)\n",
    "    \n",
    "    def activation(self, X):\n",
    "        return X\n",
    "    \n",
    "    def predict(self, X):\n",
    "        return np.where(self.activation(self.net_input(X)) >= 0, 1, -1)"
   ]
  },
  {
   "cell_type": "code",
   "execution_count": 13,
   "metadata": {},
   "outputs": [
    {
     "data": {
      "text/plain": [
       "<__main__.AdalineSGD at 0x109266a58>"
      ]
     },
     "execution_count": 13,
     "metadata": {},
     "output_type": "execute_result"
    }
   ],
   "source": [
    "ada_sgd = AdalineSGD(n_iter = 15, lr = 0.01, random_state = 1)\n",
    "ada_sgd.fit(X_std_new, y)"
   ]
  },
  {
   "cell_type": "code",
   "execution_count": 14,
   "metadata": {},
   "outputs": [
    {
     "data": {
      "image/png": "[encoded data removed]",
      "text/plain": [
       "<matplotlib.figure.Figure at 0x10922a438>"
      ]
     },
     "metadata": {},
     "output_type": "display_data"
    }
   ],
   "source": [
    "plot_decision_regions2(X_std, y, classifier = ada_sgd)\n",
    "plt.title('Adaline - Stochastic Gradient Descent')\n",
    "plt.xlabel('sepal length [standardized]')\n",
    "plt.ylabel('petal length [standardized]')\n",
    "plt.legend(loc='upper left')\n",
    "plt.tight_layout()\n",
    "plt.show()"
   ]
  },
  {
   "cell_type": "code",
   "execution_count": 15,
   "metadata": {},
   "outputs": [
    {
     "data": {
      "image/png": "[encoded data removed]",
      "text/plain": [
       "<matplotlib.figure.Figure at 0x1092703c8>"
      ]
     },
     "metadata": {},
     "output_type": "display_data"
    }
   ],
   "source": [
    "plt.plot(range(1, len(ada_sgd.cost_) + 1), ada_sgd.cost_, marker = 'o')\n",
    "plt.xlabel('Epochs')\n",
    "plt.ylabel('Average Cost')\n",
    "plt.tight_layout()\n",
    "plt.show()"
   ]
  }
 ],
 "metadata": {
  "kernelspec": {
   "display_name": "Python 3",
   "language": "python",
   "name": "python3"
  },
  "language_info": {
   "codemirror_mode": {
    "name": "ipython",
    "version": 3
   },
   "file_extension": ".py",
   "mimetype": "text/x-python",
   "name": "python",
   "nbconvert_exporter": "python",
   "pygments_lexer": "ipython3",
   "version": "3.6.4"
  }
 },
 "nbformat": 4,
 "nbformat_minor": 2
}
